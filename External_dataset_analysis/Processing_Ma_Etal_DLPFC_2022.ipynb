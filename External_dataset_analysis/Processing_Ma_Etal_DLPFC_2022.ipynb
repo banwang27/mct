{
 "cells": [
  {
   "cell_type": "code",
   "execution_count": 1,
   "id": "cc0347ac",
   "metadata": {},
   "outputs": [
    {
     "name": "stdout",
     "output_type": "stream",
     "text": [
      "scanpy==1.9.1 anndata==0.8.0 umap==0.5.3 numpy==1.20.0 scipy==1.10.0 pandas==1.3.4 scikit-learn==0.24.2 statsmodels==0.13.5 python-igraph==0.10.3 pynndescent==0.5.6\n"
     ]
    }
   ],
   "source": [
    "import scanpy as sc\n",
    "import pandas as pd\n",
    "import decoupler as dc\n",
    "import scipy\n",
    "import copy\n",
    "import numpy as np\n",
    "sc.settings.verbosity = 3             # verbosity: errors (0), warnings (1), info (2), hints (3)\n",
    "sc.logging.print_header()\n",
    "sc.settings.set_figure_params(dpi=80, facecolor='white')\n"
   ]
  },
  {
   "cell_type": "code",
   "execution_count": 2,
   "id": "db44e4b2",
   "metadata": {},
   "outputs": [],
   "source": [
    "l = sc.read_mtx(\"snRNA-seq_Chimpanzee_counts.mtx.gz\")"
   ]
  },
  {
   "cell_type": "code",
   "execution_count": 3,
   "id": "539aa0cd",
   "metadata": {},
   "outputs": [],
   "source": [
    "p = pd.read_csv(\"snRNA-seq_Chimpanzee_cell_meta.txt\", sep = \"\\t\")\n",
    "g = pd.read_csv(\"snRNA-seq_Chimpanzee_genes.txt\", sep = \"\\t\", header = None)"
   ]
  },
  {
   "cell_type": "code",
   "execution_count": 4,
   "id": "6a28f196",
   "metadata": {},
   "outputs": [],
   "source": [
    "l.var = p\n",
    "l.obs = g"
   ]
  },
  {
   "cell_type": "code",
   "execution_count": 5,
   "id": "acd8cb7c",
   "metadata": {
    "scrolled": true
   },
   "outputs": [],
   "source": [
    "l.var_names_make_unique()"
   ]
  },
  {
   "cell_type": "code",
   "execution_count": 6,
   "id": "d54259f8",
   "metadata": {},
   "outputs": [],
   "source": [
    "l.var.index = l.var[\"cell_name\"]"
   ]
  },
  {
   "cell_type": "code",
   "execution_count": 10,
   "id": "9e094eba",
   "metadata": {},
   "outputs": [
    {
     "name": "stdout",
     "output_type": "stream",
     "text": [
      "7.0 percent of the way done\n",
      "14.0 percent of the way done\n",
      "21.0 percent of the way done\n",
      "28.0 percent of the way done\n",
      "35.0 percent of the way done\n",
      "43.0 percent of the way done\n",
      "50.0 percent of the way done\n",
      "57.0 percent of the way done\n",
      "64.0 percent of the way done\n",
      "71.0 percent of the way done\n",
      "78.0 percent of the way done\n",
      "85.0 percent of the way done\n",
      "92.0 percent of the way done\n",
      "99.0 percent of the way done\n"
     ]
    }
   ],
   "source": [
    "#Takes approximately 8 hours to run\n",
    "j = copy.deepcopy(l.var)\n",
    "dfs = [0, 0, 0, 0]\n",
    "sample_names = [\"PTB165\", \"PTB166\", \"PTB1841\", \"PTB2169\"]\n",
    "indicator = 1\n",
    "c = 0\n",
    "total = len(list(l.obs.index))\n",
    "for index, row in l.obs.iterrows():\n",
    "    if c >= 0:\n",
    "        l_g = l[l.obs[0].isin([row[0]])]\n",
    "        counts = pd.DataFrame(scipy.sparse.csr_matrix.todense(l_g.X)).T\n",
    "        counts.index = j.index\n",
    "        counts = j.join(counts)\n",
    "        for i in range(len(sample_names)):\n",
    "            sample_name = sample_names[i]\n",
    "            sample = counts[counts[\"samplename\"].isin([sample_name])]\n",
    "            df = pd.DataFrame(sample.groupby(by=\"subclass\")[0].sum())\n",
    "            df.columns = [row[0]]\n",
    "            if indicator:\n",
    "                dfs[i] = df\n",
    "            else:\n",
    "                dfs[i] = dfs[i].join(df)\n",
    "        indicator = 0\n",
    "        c += 1\n",
    "        if c % 2000 == 0:\n",
    "            for i in range(len(dfs)):\n",
    "                dfff = dfs[i]\n",
    "                sample_name = sample_names[i]\n",
    "                dfff.to_csv(\"Pseudobulked_Sestan_2022_DLPFC_\" + sample_name + \"_\" + str(c) + \".txt\", sep = \"\\t\")\n",
    "            print(str(np.round((c/total)*100)) + \" percent of the way done\")\n",
    "for i in range(len(dfs)):\n",
    "    dfff = dfs[i]\n",
    "    sample_name = sample_names[i]\n",
    "    dfff.to_csv(\"Pseudobulked_Sestan_2022_DLPFC_\" + sample_name + \"_\" + str(c) + \".txt\", sep = \"\\t\")"
   ]
  },
  {
   "cell_type": "code",
   "execution_count": 12,
   "id": "8cb45df6",
   "metadata": {},
   "outputs": [],
   "source": [
    "for i in range(len(dfs)):\n",
    "    dfff = dfs[i]\n",
    "    sample_name = sample_names[i]\n",
    "    dfff.to_csv(\"Pseudobulked_Sestan_2022_DLPFC_\" + sample_name + \"_\" + str(c) + \".txt\", sep = \"\\t\")"
   ]
  },
  {
   "cell_type": "code",
   "execution_count": 13,
   "id": "1aa3bc87",
   "metadata": {},
   "outputs": [],
   "source": [
    "l = sc.read_mtx(\"snRNA-seq_Human_counts.mtx.gz\")\n",
    "p = pd.read_csv(\"snRNA-seq_Human_cell_meta.txt\", sep = \"\\t\")\n",
    "g = pd.read_csv(\"snRNA-seq_Human_genes.txt\", sep = \"\\t\", header = None)\n",
    "l.var = p\n",
    "l.obs = g\n",
    "l.var_names_make_unique()"
   ]
  },
  {
   "cell_type": "code",
   "execution_count": 17,
   "id": "d6f4f72f",
   "metadata": {},
   "outputs": [
    {
     "data": {
      "text/plain": [
       "['HSB340', 'HSB189', 'HSB628', 'HSB106']"
      ]
     },
     "execution_count": 17,
     "metadata": {},
     "output_type": "execute_result"
    }
   ],
   "source": [
    "list(set(list(l.var[\"samplename\"])))"
   ]
  },
  {
   "cell_type": "code",
   "execution_count": 18,
   "id": "93f278fb",
   "metadata": {},
   "outputs": [
    {
     "name": "stdout",
     "output_type": "stream",
     "text": [
      "7.0 percent of the way done\n",
      "14.0 percent of the way done\n",
      "21.0 percent of the way done\n",
      "28.0 percent of the way done\n",
      "35.0 percent of the way done\n",
      "43.0 percent of the way done\n",
      "50.0 percent of the way done\n",
      "57.0 percent of the way done\n",
      "64.0 percent of the way done\n",
      "71.0 percent of the way done\n",
      "78.0 percent of the way done\n",
      "85.0 percent of the way done\n",
      "92.0 percent of the way done\n",
      "99.0 percent of the way done\n"
     ]
    }
   ],
   "source": [
    "j = copy.deepcopy(l.var)\n",
    "dfs = [0, 0, 0, 0]\n",
    "sample_names = [\"HSB340\", \"HSB189\", \"HSB628\", \"HSB106\"]\n",
    "indicator = 1\n",
    "c = 0\n",
    "total = len(list(l.obs.index))\n",
    "for index, row in l.obs.iterrows():\n",
    "    if c >= 0:\n",
    "        l_g = l[l.obs[0].isin([row[0]])]\n",
    "        counts = pd.DataFrame(scipy.sparse.csr_matrix.todense(l_g.X)).T\n",
    "        counts.index = j.index\n",
    "        counts = j.join(counts)\n",
    "        for i in range(len(sample_names)):\n",
    "            sample_name = sample_names[i]\n",
    "            sample = counts[counts[\"samplename\"].isin([sample_name])]\n",
    "            df = pd.DataFrame(sample.groupby(by=\"subclass\")[0].sum())\n",
    "            df.columns = [row[0]]\n",
    "            if indicator:\n",
    "                dfs[i] = df\n",
    "            else:\n",
    "                dfs[i] = dfs[i].join(df)\n",
    "        indicator = 0\n",
    "        c += 1\n",
    "        if c % 2000 == 0:\n",
    "            for i in range(len(dfs)):\n",
    "                dfff = dfs[i]\n",
    "                sample_name = sample_names[i]\n",
    "                dfff.to_csv(\"Pseudobulked_Sestan_2022_DLPFC_\" + sample_name + \"_\" + str(c) + \".txt\", sep = \"\\t\")\n",
    "            print(str(np.round((c/total)*100)) + \" percent of the way done\")\n"
   ]
  },
  {
   "cell_type": "code",
   "execution_count": 19,
   "id": "83387c54",
   "metadata": {},
   "outputs": [],
   "source": [
    "for i in range(len(dfs)):\n",
    "    dfff = dfs[i]\n",
    "    sample_name = sample_names[i]\n",
    "    dfff.to_csv(\"Pseudobulked_Sestan_2022_DLPFC_\" + sample_name + \"_\" + str(c) + \".txt\", sep = \"\\t\")"
   ]
  },
  {
   "cell_type": "code",
   "execution_count": 20,
   "id": "f1b5a1b4",
   "metadata": {},
   "outputs": [
    {
     "data": {
      "text/plain": [
       "['RMB295', 'RMB196', 'RMB307', 'RMB161']"
      ]
     },
     "execution_count": 20,
     "metadata": {},
     "output_type": "execute_result"
    }
   ],
   "source": [
    "l = sc.read_mtx(\"snRNA-seq_Rhesus_counts.mtx.gz\")\n",
    "p = pd.read_csv(\"snRNA-seq_Rhesus_cell_meta.txt\", sep = \"\\t\")\n",
    "g = pd.read_csv(\"snRNA-seq_Rhesus_genes.txt\", sep = \"\\t\", header = None)\n",
    "l.var = p\n",
    "l.obs = g\n",
    "l.var_names_make_unique()\n",
    "list(set(list(l.var[\"samplename\"])))"
   ]
  },
  {
   "cell_type": "code",
   "execution_count": 25,
   "id": "e02114d6",
   "metadata": {},
   "outputs": [
    {
     "name": "stdout",
     "output_type": "stream",
     "text": [
      "64.0 percent of the way done\n",
      "71.0 percent of the way done\n",
      "78.0 percent of the way done\n",
      "85.0 percent of the way done\n",
      "92.0 percent of the way done\n",
      "99.0 percent of the way done\n"
     ]
    }
   ],
   "source": [
    "j = copy.deepcopy(l.var)\n",
    "dfs = [0, 0, 0, 0]\n",
    "sample_names = ['RMB295', 'RMB196', 'RMB307', 'RMB161']\n",
    "indicator = 1\n",
    "c = 0\n",
    "total = len(list(l.obs.index))\n",
    "for index, row in l.obs.iterrows():\n",
    "    if c >= 16000:\n",
    "        l_g = l[l.obs[0].isin([row[0]])]\n",
    "        counts = pd.DataFrame(scipy.sparse.csr_matrix.todense(l_g.X)).T\n",
    "        counts.index = j.index\n",
    "        counts = j.join(counts)\n",
    "        for i in range(len(sample_names)):\n",
    "            sample_name = sample_names[i]\n",
    "            sample = counts[counts[\"samplename\"].isin([sample_name])]\n",
    "            df = pd.DataFrame(sample.groupby(by=\"subclass\")[0].sum())\n",
    "            df.columns = [row[0]]\n",
    "            if indicator:\n",
    "                dfs[i] = df\n",
    "            else:\n",
    "                dfs[i] = dfs[i].join(df)\n",
    "        indicator = 0\n",
    "        if c % 2000 == 0 and c > 16000:\n",
    "            for i in range(len(dfs)):\n",
    "                dfff = dfs[i]\n",
    "                sample_name = sample_names[i]\n",
    "                dfff.to_csv(\"Pseudobulked_Sestan_2022_DLPFC_\" + sample_name + \"_\" + str(c) + \".txt\", sep = \"\\t\")\n",
    "            print(str(np.round((c/total)*100)) + \" percent of the way done\")\n",
    "    c += 1\n",
    "for i in range(len(dfs)):\n",
    "    dfff = dfs[i]\n",
    "    sample_name = sample_names[i]\n",
    "    dfff.to_csv(\"Pseudobulked_Sestan_2022_DLPFC_\" + sample_name + \"_\" + str(c) + \".txt\", sep = \"\\t\")"
   ]
  },
  {
   "cell_type": "code",
   "execution_count": 26,
   "id": "4a2a142a",
   "metadata": {},
   "outputs": [
    {
     "data": {
      "text/plain": [
       "['CJB1540', 'CJB1435', 'CJB1680', 'CJB1577']"
      ]
     },
     "execution_count": 26,
     "metadata": {},
     "output_type": "execute_result"
    }
   ],
   "source": [
    "l = sc.read_mtx(\"snRNA-seq_Marmoset_counts.mtx.gz\")\n",
    "p = pd.read_csv(\"snRNA-seq_Marmoset_cell_meta.txt\", sep = \"\\t\")\n",
    "g = pd.read_csv(\"snRNA-seq_Marmoset_genes.txt\", sep = \"\\t\", header = None)\n",
    "l.var = p\n",
    "l.obs = g\n",
    "l.var_names_make_unique()\n",
    "list(set(list(l.var[\"samplename\"])))"
   ]
  },
  {
   "cell_type": "code",
   "execution_count": 29,
   "id": "02512912",
   "metadata": {},
   "outputs": [
    {
     "name": "stdout",
     "output_type": "stream",
     "text": [
      "85.0 percent of the way done\n",
      "92.0 percent of the way done\n",
      "99.0 percent of the way done\n"
     ]
    }
   ],
   "source": [
    "j = copy.deepcopy(l.var)\n",
    "dfs = [0, 0, 0, 0]\n",
    "sample_names = ['CJB1540', 'CJB1435', 'CJB1680', 'CJB1577']\n",
    "indicator = 1\n",
    "c = 0\n",
    "total = len(list(l.obs.index))\n",
    "for index, row in l.obs.iterrows():\n",
    "    if c >= 22000:\n",
    "        l_g = l[l.obs[0].isin([row[0]])]\n",
    "        counts = pd.DataFrame(scipy.sparse.csr_matrix.todense(l_g.X)).T\n",
    "        counts.index = j.index\n",
    "        counts = j.join(counts)\n",
    "        for i in range(len(sample_names)):\n",
    "            sample_name = sample_names[i]\n",
    "            sample = counts[counts[\"samplename\"].isin([sample_name])]\n",
    "            df = pd.DataFrame(sample.groupby(by=\"subclass\")[0].sum())\n",
    "            df.columns = [row[0]]\n",
    "            if indicator:\n",
    "                dfs[i] = df\n",
    "            else:\n",
    "                dfs[i] = dfs[i].join(df)\n",
    "        indicator = 0\n",
    "        if c % 2000 == 0 and c > 22000:\n",
    "            for i in range(len(dfs)):\n",
    "                dfff = dfs[i]\n",
    "                sample_name = sample_names[i]\n",
    "                dfff.to_csv(\"Pseudobulked_Sestan_2022_DLPFC_\" + sample_name + \"_\" + str(c) + \".txt\", sep = \"\\t\")\n",
    "            print(str(np.round((c/total)*100)) + \" percent of the way done\")\n",
    "    c += 1\n",
    "for i in range(len(dfs)):\n",
    "    dfff = dfs[i]\n",
    "    sample_name = sample_names[i]\n",
    "    dfff.to_csv(\"Pseudobulked_Sestan_2022_DLPFC_\" + sample_name + \"_\" + str(c) + \".txt\", sep = \"\\t\")"
   ]
  },
  {
   "cell_type": "code",
   "execution_count": null,
   "id": "644239e2",
   "metadata": {},
   "outputs": [],
   "source": []
  }
 ],
 "metadata": {
  "kernelspec": {
   "display_name": "Python 3 (ipykernel)",
   "language": "python",
   "name": "python3"
  },
  "language_info": {
   "codemirror_mode": {
    "name": "ipython",
    "version": 3
   },
   "file_extension": ".py",
   "mimetype": "text/x-python",
   "name": "python",
   "nbconvert_exporter": "python",
   "pygments_lexer": "ipython3",
   "version": "3.9.7"
  }
 },
 "nbformat": 4,
 "nbformat_minor": 5
}
